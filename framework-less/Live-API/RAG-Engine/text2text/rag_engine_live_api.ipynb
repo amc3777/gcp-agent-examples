{
 "cells": [
  {
   "cell_type": "markdown",
   "id": "dbf4f5a6",
   "metadata": {},
   "source": [
    "## RAG Engine + Live API (GenAI SDK)"
   ]
  },
  {
   "cell_type": "markdown",
   "id": "3e654f6f",
   "metadata": {},
   "source": [
    "### Grab existing RAG Engine corpus name"
   ]
  },
  {
   "cell_type": "code",
   "execution_count": null,
   "id": "779adf28",
   "metadata": {},
   "outputs": [],
   "source": [
    "import vertexai\n",
    "from vertexai import rag\n",
    "\n",
    "vertexai.init(project=\"andrewcooley-genai-tests\", location=\"us-central1\")\n",
    "\n",
    "# Get RAG corpus for use with Live API\n",
    "rag_corpus = rag.get_corpus(name=list(rag.list_corpora())[-1].name)\n",
    "\n",
    "# Define the tools for the agent - types matter (i.e. pydantic)!\n",
    "TOOLS = [\n",
    "    {\n",
    "        \"retrieval\": {\n",
    "            \"vertex_rag_store\": {\n",
    "                \"rag_resources\": [\n",
    "                    {\"rag_corpus\": f\"{rag_corpus.name}\"}\n",
    "                ]\n",
    "            }\n",
    "        }\n",
    "    }\n",
    "]"
   ]
  },
  {
   "cell_type": "markdown",
   "id": "a3c043ef",
   "metadata": {},
   "source": [
    "### Create client and asynchronous connection to the Live API model with the RAG Engine tool"
   ]
  },
  {
   "cell_type": "code",
   "execution_count": 2,
   "id": "ad12da40",
   "metadata": {},
   "outputs": [
    {
     "name": "stdout",
     "output_type": "stream",
     "text": [
      "The\n",
      " Grand Horizon Resort & Hotel welcomes well-behaved domestic pets (dogs and cats only)\n",
      " under certain conditions. A non-refundable pet fee of a specified amount will be charged to your\n",
      " room account. There may be a size or weight limit for pets. A maximum of a specified number of pets are allowed per guest room. All pets must be declared at\n",
      " the time of reservation and registered at check-in. Pets must be kept on a leash or in a carrier at all times when outside the guest room and in\n",
      " public areas of the hotel. Pets are not permitted in food and beverage outlets, pool areas, fitness centers, or other designated non-pet areas, except for service animals. Pets must not be left unattended in guest rooms for extended periods.\n",
      " For the safety and comfort of staff and your pet, housekeeping services will only be provided if the pet is not present in the room or is securely crated. Guests are responsible for cleaning up after their pets on hotel grounds and in designated pet relief areas.\n",
      " Guests are fully responsible for any damage or soiling caused by their pets to hotel property. If a pet becomes aggressive, overly noisy, or disruptive to other guests, the hotel reserves the right to request that the pet be removed from the premises or, if the guest is unable to comply, to terminate the guest's stay\n",
      " without refund. Qualified service animals are welcome and are generally exempt from pet fees. Emotional support animals are subject to the standard pet policy and fees.\n",
      "\n"
     ]
    }
   ],
   "source": [
    "import asyncio\n",
    "from google import genai\n",
    "from google.genai import types\n",
    "\n",
    "MODEL=\"gemini-2.0-flash-live-preview-04-09\"\n",
    "\n",
    "client = genai.Client(\n",
    "  vertexai=True,\n",
    "  project=\"andrewcooley-genai-tests\",\n",
    "  location=\"us-central1\"\n",
    ")\n",
    "\n",
    "config = {\"response_modalities\": [\"TEXT\"], \"tools\": TOOLS}\n",
    "\n",
    "async with client.aio.live.connect(model=MODEL, config=config) as session:\n",
    "\n",
    "  prompt = \"What is the pet policy for the Grand Horizon Resort & Hotel?\"\n",
    "\n",
    "  await session.send_client_content(turns={\"parts\": [{\"text\": prompt}]})\n",
    "\n",
    "  async for chunk in session.receive():\n",
    "            if chunk.server_content:\n",
    "                if chunk.text is not None:\n",
    "                    print(chunk.text)\n",
    "\n",
    "                model_turn = chunk.server_content.model_turn\n",
    "                if model_turn:\n",
    "                    for part in model_turn.parts:\n",
    "                        if part.executable_code is not None:\n",
    "                          print(part.executable_code.code)\n",
    "\n",
    "                        if part.code_execution_result is not None:\n",
    "                          print(part.code_execution_result.output)\n"
   ]
  }
 ],
 "metadata": {
  "kernelspec": {
   "display_name": "ADK",
   "language": "python",
   "name": ".af"
  },
  "language_info": {
   "codemirror_mode": {
    "name": "ipython",
    "version": 3
   },
   "file_extension": ".py",
   "mimetype": "text/x-python",
   "name": "python",
   "nbconvert_exporter": "python",
   "pygments_lexer": "ipython3",
   "version": "3.11.6"
  }
 },
 "nbformat": 4,
 "nbformat_minor": 5
}
