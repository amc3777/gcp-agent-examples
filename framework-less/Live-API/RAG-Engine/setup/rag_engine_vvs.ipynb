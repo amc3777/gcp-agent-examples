{
 "cells": [
  {
   "cell_type": "markdown",
   "id": "aeac1a36",
   "metadata": {},
   "source": [
    "# Create a RAG Engine corpus with a Vertex AI Vector Search index"
   ]
  },
  {
   "cell_type": "markdown",
   "id": "a12c50d0",
   "metadata": {},
   "source": [
    "#### Import libraries and initialize client libraries"
   ]
  },
  {
   "cell_type": "code",
   "execution_count": 1,
   "id": "3b7bf3d1",
   "metadata": {},
   "outputs": [],
   "source": [
    "import os\n",
    "\n",
    "from google import genai\n",
    "import vertexai\n",
    "from google.cloud import aiplatform\n",
    "\n",
    "from vertexai import rag\n",
    "\n",
    "PROJECT_ID = \"andrewcooley-genai-tests\"\n",
    "if not PROJECT_ID or PROJECT_ID == \"[your-project-id]\":\n",
    "    PROJECT_ID = str(os.environ.get(\"GOOGLE_CLOUD_PROJECT\"))\n",
    "\n",
    "LOCATION = os.environ.get(\"GOOGLE_CLOUD_REGION\", \"us-central1\")\n",
    "\n",
    "aiplatform.init(project=PROJECT_ID, location=LOCATION)\n",
    "vertexai.init(project=PROJECT_ID, location=LOCATION)\n",
    "client = genai.Client(vertexai=True, project=PROJECT_ID, location=LOCATION)"
   ]
  },
  {
   "cell_type": "markdown",
   "id": "2409c1c7",
   "metadata": {},
   "source": [
    "#### Create Vertex AI Vector Search index - this is a long-running operation and could take several minutes to complete"
   ]
  },
  {
   "cell_type": "code",
   "execution_count": 2,
   "id": "46478d8b",
   "metadata": {},
   "outputs": [
    {
     "name": "stdout",
     "output_type": "stream",
     "text": [
      "Creating MatchingEngineIndex\n",
      "Create MatchingEngineIndex backing LRO: projects/511623653677/locations/us-central1/indexes/965989134722138112/operations/7737129012442431488\n",
      "MatchingEngineIndex created. Resource name: projects/511623653677/locations/us-central1/indexes/965989134722138112\n",
      "To use this MatchingEngineIndex in another session:\n",
      "index = aiplatform.MatchingEngineIndex('projects/511623653677/locations/us-central1/indexes/965989134722138112')\n"
     ]
    }
   ],
   "source": [
    "my_index = aiplatform.MatchingEngineIndex.create_tree_ah_index(\n",
    "    display_name=\"live_api_rag_engine_index\",\n",
    "    description=\"index for Live API with RAG engine\",\n",
    "    dimensions=768,\n",
    "    approximate_neighbors_count=10,\n",
    "    leaf_node_embedding_count=500,\n",
    "    leaf_nodes_to_search_percent=7,\n",
    "    distance_measure_type=\"DOT_PRODUCT_DISTANCE\",\n",
    "    feature_norm_type=\"UNIT_L2_NORM\",\n",
    "    index_update_method=\"STREAM_UPDATE\",\n",
    ")"
   ]
  },
  {
   "cell_type": "markdown",
   "id": "42eba5b3",
   "metadata": {},
   "source": [
    "#### Create Vertex AI Vector Search endpoint"
   ]
  },
  {
   "cell_type": "code",
   "execution_count": 3,
   "id": "889e518e",
   "metadata": {},
   "outputs": [
    {
     "name": "stdout",
     "output_type": "stream",
     "text": [
      "Creating MatchingEngineIndexEndpoint\n",
      "Create MatchingEngineIndexEndpoint backing LRO: projects/511623653677/locations/us-central1/indexEndpoints/7684022772619542528/operations/1344374894506278912\n",
      "MatchingEngineIndexEndpoint created. Resource name: projects/511623653677/locations/us-central1/indexEndpoints/7684022772619542528\n",
      "To use this MatchingEngineIndexEndpoint in another session:\n",
      "index_endpoint = aiplatform.MatchingEngineIndexEndpoint('projects/511623653677/locations/us-central1/indexEndpoints/7684022772619542528')\n"
     ]
    }
   ],
   "source": [
    "my_index_endpoint = aiplatform.MatchingEngineIndexEndpoint.create(\n",
    "    display_name=\"index for Live API with RAG engine\", public_endpoint_enabled=True\n",
    ")"
   ]
  },
  {
   "cell_type": "markdown",
   "id": "5d944c3f",
   "metadata": {},
   "source": [
    "#### Deploy index to endpoint - this is a long-running operation and will take many minutes to complete"
   ]
  },
  {
   "cell_type": "code",
   "execution_count": 4,
   "id": "4f20187d",
   "metadata": {},
   "outputs": [
    {
     "name": "stdout",
     "output_type": "stream",
     "text": [
      "Deploying index MatchingEngineIndexEndpoint index_endpoint: projects/511623653677/locations/us-central1/indexEndpoints/7684022772619542528\n",
      "Deploy index MatchingEngineIndexEndpoint index_endpoint backing LRO: projects/511623653677/locations/us-central1/indexEndpoints/7684022772619542528/operations/8439796107428495360\n",
      "MatchingEngineIndexEndpoint index_endpoint Deployed index. Resource name: projects/511623653677/locations/us-central1/indexEndpoints/7684022772619542528\n"
     ]
    },
    {
     "data": {
      "text/plain": [
       "<google.cloud.aiplatform.matching_engine.matching_engine_index_endpoint.MatchingEngineIndexEndpoint object at 0x11eed0950> \n",
       "resource name: projects/511623653677/locations/us-central1/indexEndpoints/7684022772619542528"
      ]
     },
     "execution_count": 4,
     "metadata": {},
     "output_type": "execute_result"
    }
   ],
   "source": [
    "my_index_endpoint.deploy_index(\n",
    "    index=my_index, deployed_index_id=\"live_api_rag_engine_index\"\n",
    ")"
   ]
  },
  {
   "cell_type": "markdown",
   "id": "71bc9b73",
   "metadata": {},
   "source": [
    "#### Configure embedding model for vector-based similarity search and Vertex AI Vector Search for vector database integration in RAG Engine"
   ]
  },
  {
   "cell_type": "code",
   "execution_count": 5,
   "id": "3db3c67a",
   "metadata": {},
   "outputs": [],
   "source": [
    "embedding_model_config = rag.RagEmbeddingModelConfig(\n",
    "    vertex_prediction_endpoint=rag.VertexPredictionEndpoint(\n",
    "        publisher_model=\"publishers/google/models/text-embedding-005\" #this is the default model\n",
    "    )\n",
    ")\n",
    "\n",
    "vector_db = rag.VertexVectorSearch(\n",
    "    index=my_index.resource_name, index_endpoint=my_index_endpoint.resource_name\n",
    ")"
   ]
  },
  {
   "cell_type": "markdown",
   "id": "bd3a10c4",
   "metadata": {},
   "source": [
    "#### Create RAG Engine corpus with vector database and embedding model configured"
   ]
  },
  {
   "cell_type": "code",
   "execution_count": 6,
   "id": "27a7eea1",
   "metadata": {},
   "outputs": [],
   "source": [
    "rag_corpus = rag.create_corpus(\n",
    "    display_name=\"vvs-rag-corpus-for-live-api\",\n",
    "    backend_config=rag.RagVectorDbConfig(\n",
    "        vector_db=vector_db,\n",
    "        rag_embedding_model_config=embedding_model_config,\n",
    "        ),\n",
    "    )"
   ]
  },
  {
   "cell_type": "markdown",
   "id": "91c448d6",
   "metadata": {},
   "source": [
    "#### Upload synthetic guest policy documents for example RAG"
   ]
  },
  {
   "cell_type": "code",
   "execution_count": 7,
   "id": "4a5e411d",
   "metadata": {},
   "outputs": [],
   "source": [
    "rag_file = rag.upload_file(corpus_name=rag_corpus.name,\n",
    "                           path=\"The_Grand_Horizon_Hotel_&_Resort_-_Guest_Policy_Compendium.pdf\",\n",
    "                           display_name=\"The Grand Horizon Hotel & Resort Guest Policy Compendium\",\n",
    "                           description=\"The Grand Horizon Hotel & Resort Guest Policy Compendium\",\n",
    "                           transformation_config=rag.TransformationConfig(\n",
    "                                        rag.ChunkingConfig(chunk_size=1024, chunk_overlap=256)),\n",
    ")"
   ]
  },
  {
   "cell_type": "markdown",
   "id": "11462433",
   "metadata": {},
   "source": [
    "#### Test RAG Engine instance with an example query"
   ]
  },
  {
   "cell_type": "code",
   "execution_count": 8,
   "id": "5003882f",
   "metadata": {},
   "outputs": [
    {
     "name": "stdout",
     "output_type": "stream",
     "text": [
      "contexts {\n",
      "  contexts {\n",
      "    source_uri: \"gs://rag-rental-prod-c9eccde5-us-central1-temp-bucket/ba723bb1-fc08-40eb-aa9f-8b293dd834a0\"\n",
      "    text: \"Fees may apply for certain requests.\\r\\n2. Check-In Procedures\\r\\n● 2.1. Check-In Time: Standard check-in time is 3:00 PM local time.\\r\\n● 2.2. Early Check-In: Requests for early check-in (before 3:00 PM) are subject to\\r\\navailability on the day of arrival. While we will make every effort to accommodate such\\r\\nrequests, they cannot be guaranteed. An additional fee may apply for guaranteed early\\r\\ncheck-in, which must be arranged in advance. Guests arriving before their room is ready\\r\\nare welcome to store their luggage with our Bell Desk.\\r\\n● 2.3. Identification: All guests are required to present valid, government-issued photo\\r\\nidentification (e.g., passport, driver\\'s license, national ID card) upon check-in. For\\r\\ninternational guests, a valid passport and visa (if applicable) are required. The name on\\r\\nthe identification must match the name on the reservation.\\r\\n● 2.4. Registration Card: All guests must complete and sign a guest registration card at\\r\\ncheck-in, confirming their personal details, length of stay, and acknowledging the hotel\\'s\\r\\npolicies.● 2.5. Security Deposit/Authorization: Upon check-in, the hotel requires a security\\r\\ndeposit or credit card authorization for incidental charges. This is typically an amount per\\r\\nnight in addition to the full room and tax charges for the entire stay.\\r\\n○ For credit card payments, the card presented at check-in will be pre-authorized\\r\\nfor the total amount of the stay plus an additional amount for incidentals. Any\\r\\nunused portion of this pre-authorization will be released by the hotel upon\\r\\ncheck-out. Please note that it may take several business days for your financial\\r\\ninstitution to reflect this release.\\r\\n○ For cash payments (where accepted for room charges), the full accommodation\\r\\ncost plus a predetermined cash security deposit per night for incidentals will be\\r\\nrequired at check-in. The unused portion of the cash deposit will be refunded at\\r\\ncheck-out after verifying room status and any outstanding charges.\\r\\n● 2.6. Room Assignment: Rooms are assigned based on availability of the requested\\r\\nroom type. Specific room numbers cannot be guaranteed unless part of a pre-confirmed\\r\\narrangement or package.\\r\\n● 2.7. Room Keys: Guests will be issued room keys (electronic key cards) upon\\r\\ncompletion of the check-in process. For security reasons, lost or stolen keys should be\\r\\nreported to the Front Desk immediately. A fee may apply for replacement keys.\\r\\n3. Check-Out Procedures\\r\\n● 3.1. Check-Out Time: Standard check-out time is 11:00 AM local time.\\r\\n● 3.2. Late Check-Out: Requests for late check-out (after 11:00 AM) are subject to\\r\\navailability on the day of departure and must be requested in advance through the Front\\r\\nDesk.\\r\\n○ Complimentary late check-out may be granted for a short period (e.g., up to\\r\\n12:00 PM or 1:00 PM) based on availability.\\r\\n○ Late check-out until 6:00 PM, if available, will typically incur a charge equivalent\\r\\nto 50% of the Best Available Rate for that night.\\r\\n○ Check-outs after 6:00 PM, if available, will typically incur a charge equivalent to a\\r\\nfull night\\'s stay at the Best Available Rate.\\r\\n○ Failure to vacate the room by the agreed-upon check-out time without prior\\r\\nauthorization may result in additional charges and the hotel reserves the right to\\r\\nremove guest belongings from the room.\\r\\n● 3.3. Express Check-Out: For your convenience, an express check-out service may be\\r\\navailable. Please inquire at the Front Desk. If you opt for express check-out, your\\r\\naccount will be settled using the credit card on file, and a copy of your final bill will be\\r\\nemailed to you. Guests are responsible for verifying the accuracy of their bill.\\r\\n● 3.4. Account Settlement: All outstanding charges incurred during the stay must be\\r\\nsettled in full upon check-out. This includes room charges, food and beverage, mini-bar,\\r\\ntelephone calls, laundry, damages, and any other services utilized.\\r\\n● 3.5. Room Key Return: Please return your room keys to the Front Desk upon\\r\\ncheck-out.● 3.6. Luggage Storage: Luggage storage is available through the Bell Desk for guests\\r\\nwho have checked out but wish to depart the hotel later in the day. This service is\\r\\ntypically complimentary for the day of departure.\"\n",
      "    score: 0.69943904876708984\n",
      "  }\n",
      "  contexts {\n",
      "    source_uri: \"gs://rag-rental-prod-c9eccde5-us-central1-temp-bucket/ba723bb1-fc08-40eb-aa9f-8b293dd834a0\"\n",
      "    text: \"○ Failure to vacate the room by the agreed-upon check-out time without prior\\r\\nauthorization may result in additional charges and the hotel reserves the right to\\r\\nremove guest belongings from the room.\\r\\n● 3.3. Express Check-Out: For your convenience, an express check-out service may be\\r\\navailable. Please inquire at the Front Desk. If you opt for express check-out, your\\r\\naccount will be settled using the credit card on file, and a copy of your final bill will be\\r\\nemailed to you. Guests are responsible for verifying the accuracy of their bill.\\r\\n● 3.4. Account Settlement: All outstanding charges incurred during the stay must be\\r\\nsettled in full upon check-out. This includes room charges, food and beverage, mini-bar,\\r\\ntelephone calls, laundry, damages, and any other services utilized.\\r\\n● 3.5. Room Key Return: Please return your room keys to the Front Desk upon\\r\\ncheck-out.● 3.6. Luggage Storage: Luggage storage is available through the Bell Desk for guests\\r\\nwho have checked out but wish to depart the hotel later in the day. This service is\\r\\ntypically complimentary for the day of departure. The hotel is not liable for valuable items\\r\\nleft in stored luggage.\\r\\n4. Payment Policies\\r\\n● 4.1. Accepted Forms of Payment: We accept major credit cards (Visa, MasterCard,\\r\\nAmerican Express, Discover), debit cards, and cash (local currency). Personal checks\\r\\nare generally not accepted. For corporate accounts or pre-arranged billing, specific\\r\\npayment terms will apply as per the agreement.\\r\\n● 4.2. Currency: All charges are processed in the local currency (please specify currency,\\r\\ne.g., USD, EUR, etc.). Currency exchange services may be available at the Front Desk\\r\\nor nearby, subject to prevailing exchange rates and service fees.\\r\\n● 4.3. Credit Card Pre-Authorization: As mentioned in section 2.5, a pre-authorization\\r\\nwill be placed on your credit card upon check-in. This is not a charge, but a temporary\\r\\nhold of funds. The final charges will be processed upon check-out, and any excess hold\\r\\nwill be released. The time taken for the release to reflect on your statement is\\r\\ndetermined by your card issuer.\\r\\n● 4.4. Third-Party Payments: If a guest\\'s stay is being paid for by a third party (e.g.,\\r\\ncompany, family member not present), a Credit Card Authorization Form must be\\r\\ncompleted and submitted to the hotel prior to the guest\\'s arrival, along with a copy of the\\r\\ncardholder\\'s photo ID and the front and back of the credit card. The hotel reserves the\\r\\nright to refuse third-party payments if the required documentation is not provided or if\\r\\nthere are security concerns.\\r\\n● 4.5. Disputed Charges: Any disputed charges on your final bill should be brought to the\\r\\nattention of the Front Desk alebo Management prior to departure, or in writing within\\r\\nseven (7) days of the check-out date. We will investigate all disputes thoroughly.\\r\\n● 4.6. Taxes and Service Charges: All rates are subject to applicable government taxes\\r\\n(e.g., sales tax, occupancy tax, VAT) and may be subject to a hotel service charge.\\r\\nThese will be itemized on your bill. Gratuities for exceptional service are at the guest\\'s\\r\\ndiscretion unless a mandatory service charge is applied (e.g., for room service,\\r\\nbanquets, or certain packages).\\r\\n5. Cancellation, No-Show, and Early Departure Policies\\r\\n● 5.1. Standard Cancellation Policy:\\r\\n○ Reservations must typically be cancelled by 6:00 PM local hotel time, at least\\r\\nforty-eight (48) hours prior to the scheduled arrival date to avoid a cancellation\\r\\npenalty, unless otherwise specified in your rate plan or booking confirmation.○ Cancellations made within forty-eight (48) hours of scheduled arrival, or as per\\r\\nthe specific terms of the rate booked, will result in a cancellation fee, usually\\r\\nequivalent to one (1) night\\'s room charge plus applicable taxes.\\r\\n● 5.2. Non-Refundable Reservations: Certain rates and packages are non-refundable\\r\\nand require full prepayment at the time of booking. No cancellations, modifications, or\\r\\nrefunds are permitted for these reservations. This will be clearly indicated during the\\r\\nbooking process.\\r\\n● 5.3.\"\n",
      "    score: 0.683975100517273\n",
      "  }\n",
      "  contexts {\n",
      "    source_uri: \"gs://rag-rental-prod-c9eccde5-us-central1-temp-bucket/ba723bb1-fc08-40eb-aa9f-8b293dd834a0\"\n",
      "    text: \"The Grand Horizon Hotel & Resort - Guest Policy Compendium\\r\\nEffective Date: May 22, 2025\\r\\nWelcome to The Grand Horizon Hotel & Resort!\\r\\nWe are delighted to have you as our guest. To ensure a pleasant, safe, and comfortable stay for\\r\\nall our patrons, we have established the following policies and guidelines. We kindly request\\r\\nyour cooperation in adhering to these terms throughout your time with us. Should you have any\\r\\nquestions or require clarification on any of the points below, please do not hesitate to contact\\r\\nour Front Desk or Guest Services.\\r\\nTable of Contents (for demonstration splitting purposes):\\r\\n1. Reservations & Booking Confirmation\\r\\n2. Check-In Procedures\\r\\n3. Check-Out Procedures\\r\\n4. Payment Policies\\r\\n5. Cancellation, No-Show, and Early Departure Policies\\r\\n6. Room Occupancy & Guest Registration\\r\\n7. Guest Conduct & Noise Policy\\r\\n8. Smoking Policy\\r\\n9. Pet Policy\\r\\n10. Minors Policy\\r\\n11. Health, Safety, and Security\\r\\n12. Use of Hotel Amenities & Facilities\\r\\n13. Food & Beverage Policy\\r\\n14. Parking Policy\\r\\n15. Lost & Found\\r\\n16. Damages to Hotel Property\\r\\n17. Environmental Policy\\r\\n18. Wi-Fi & Internet Usage\\r\\n19. Visitors Policy\\r\\n20. Special Requests\\r\\n21. Photography & Videography\\r\\n22. Emergency Procedures\\r\\n23. Liability & Disclaimers\\r\\n24. Policy Modifications & Enforcement\\r\\n1. Reservations & Booking Confirmation\\r\\n● 1.1. Booking Channels: Reservations can be made directly with the hotel via our official\\r\\nwebsite, telephone, or email, or through authorized third-party travel agencies andbooking platforms. Policies may vary slightly for bookings made through third-party\\r\\nchannels; in such cases, the policies of the booking source may also apply in\\r\\nconjunction with these hotel policies.\\r\\n● 1.2. Reservation Guarantee: All reservations must be guaranteed with a valid major\\r\\ncredit card. The credit card will be authorized at the time of booking or prior to arrival for\\r\\nan amount sufficient to cover the first night\\'s stay or the full estimated cost of the stay,\\r\\ndepending on the rate plan selected. For certain promotions or packages, full\\r\\nprepayment may be required at the time of booking and will be non-refundable.\\r\\n● 1.3. Accurate Information: Guests are responsible for providing accurate and complete\\r\\ninformation during the reservation process, including full legal name, contact telephone\\r\\nnumber, email address, and the correct number of adults and children accompanying the\\r\\nguest. Any discrepancies may lead to a modification of the reservation or, in some\\r\\ncases, cancellation.\\r\\n● 1.4. Rate Confirmation: Room rates are quoted per room, per night, and are subject to\\r\\napplicable taxes and service charges unless otherwise stated. Rates are confirmed at\\r\\nthe time of booking and are generally based on the length of stay, number of occupants,\\r\\nand availability. Any modification to a reservation may result in a rate change.\\r\\n● 1.5. Group Reservations: Reservations for five (5) or more rooms are typically\\r\\nconsidered a group booking and may be subject to different deposit, cancellation, and\\r\\nattrition policies. Please contact our Group Sales department for specific terms and\\r\\nconditions.\\r\\n● 1.6. Special Requests: While we endeavor to accommodate all special requests (e.g.,\\r\\nspecific room location, bed type, adjoining rooms, accessibility features), these are\\r\\nsubject to availability at the time of check-in and cannot be guaranteed in advance\\r\\nunless explicitly confirmed in writing by the hotel. Fees may apply for certain requests.\\r\\n2. Check-In Procedures\\r\\n● 2.1. Check-In Time: Standard check-in time is 3:00 PM local time.\\r\\n● 2.2. Early Check-In: Requests for early check-in (before 3:00 PM) are subject to\\r\\navailability on the day of arrival. While we will make every effort to accommodate such\\r\\nrequests, they cannot be guaranteed. An additional fee may apply for guaranteed early\\r\\ncheck-in, which must be arranged in advance. Guests arriving before their room is ready\\r\\nare welcome to store their luggage with our Bell Desk.\\r\\n● 2.3. Identification: All guests are required to present valid, government-issued photo\\r\\nidentification (e.g., passport, driver\\'s license, national ID card) upon check-in. For\\r\\ninternational guests, a valid passport and visa (if applicable) are required. The name on\\r\\nthe identification must match the name on the reservation.\\r\\n● 2.4.\"\n",
      "    score: 0.65586519241333008\n",
      "  }\n",
      "  contexts {\n",
      "    source_uri: \"gs://rag-rental-prod-c9eccde5-us-central1-temp-bucket/ba723bb1-fc08-40eb-aa9f-8b293dd834a0\"\n",
      "    text: \"These will be itemized on your bill. Gratuities for exceptional service are at the guest\\'s\\r\\ndiscretion unless a mandatory service charge is applied (e.g., for room service,\\r\\nbanquets, or certain packages).\\r\\n5. Cancellation, No-Show, and Early Departure Policies\\r\\n● 5.1. Standard Cancellation Policy:\\r\\n○ Reservations must typically be cancelled by 6:00 PM local hotel time, at least\\r\\nforty-eight (48) hours prior to the scheduled arrival date to avoid a cancellation\\r\\npenalty, unless otherwise specified in your rate plan or booking confirmation.○ Cancellations made within forty-eight (48) hours of scheduled arrival, or as per\\r\\nthe specific terms of the rate booked, will result in a cancellation fee, usually\\r\\nequivalent to one (1) night\\'s room charge plus applicable taxes.\\r\\n● 5.2. Non-Refundable Reservations: Certain rates and packages are non-refundable\\r\\nand require full prepayment at the time of booking. No cancellations, modifications, or\\r\\nrefunds are permitted for these reservations. This will be clearly indicated during the\\r\\nbooking process.\\r\\n● 5.3. No-Show Policy: If a guest does not arrive on the scheduled check-in date and has\\r\\nnot cancelled their reservation in accordance with the applicable cancellation policy, it\\r\\nwill be considered a \\\"No-Show.\\\"\\r\\n○ For guaranteed reservations, a No-Show fee equivalent to one (1) night\\'s room\\r\\ncharge plus applicable taxes (or the full amount for non-refundable bookings) will\\r\\nbe charged to the credit card on file.\\r\\n○ The remainder of the reservation (if for multiple nights) will be automatically\\r\\ncancelled unless the hotel is contacted by the guest to reinstate the booking,\\r\\nsubject to availability and potential rate changes.\\r\\n● 5.4. Early Departure Policy: If a guest checks out prior to their confirmed departure\\r\\ndate, an early departure fee may apply. This fee is typically equivalent to one (1) night\\'s\\r\\nroom charge plus applicable taxes, or may vary depending on the terms of the rate plan\\r\\nbooked. Guests are advised to inform the Front Desk as soon as possible if their travel\\r\\nplans change. Some rates, particularly promotional or discounted rates, may not permit\\r\\nearly departure without forfeiture of the full cost of the booked stay.\\r\\n● 5.5. Group Cancellation Policy: Group bookings are subject to specific cancellation\\r\\nterms outlined in the group contract.\\r\\n● 5.6. Modifications: Reservation modifications (e.g., change of dates, room type,\\r\\nnumber of guests) are subject to availability and may result in a rate change.\\r\\nModifications may also be subject to the cancellation policy if made within the penalty\\r\\nperiod.\\r\\n● 5.7. Force Majeure: The hotel shall not be liable for failure to perform its obligations if\\r\\nsuch failure is as a result of Acts of God (e.g., earthquake, flood, fire, storm), war,\\r\\ninsurrection, pandemic, government restrictions, or other causes beyond its reasonable\\r\\ncontrol. In such events, the hotel may, at its discretion, waive or modify cancellation fees,\\r\\nthough this is not guaranteed.\\r\\n6. Room Occupancy & Guest Registration\\r\\n● 6.1. Maximum Occupancy: Each room type has a maximum occupancy limit. This limit\\r\\nis determined by local fire safety regulations and hotel policy. Exceeding the maximum\\r\\noccupancy is not permitted.\\r\\n○ Standard King Room: Typically 2 persons.\\r\\n○ Standard Double/Queen Room: Typically up to 4 persons (2 adults, 2 children, or\\r\\nas specified).\\r\\n○ Suites: Occupancy varies by suite type; please confirm at the time of booking.● 6.2. Extra Person Fees: Room rates are generally based on single or double\\r\\noccupancy. An additional charge will apply for each extra adult occupant beyond the\\r\\nstandard occupancy, up to the maximum permitted for the room type. Children under a\\r\\ncertain age (e.g., 12 years) may stay free when sharing a room with an adult and using\\r\\nexisting bedding, subject to room type limitations. This will be specified at the time of\\r\\nbooking.\\r\\n● 6.3. Rollaway Beds & Cribs: Rollaway beds and cribs are available upon request and\\r\\nare subject to availability. Fees may apply for rollaway beds. Cribs are generally\\r\\nprovided complimentary. Not all room types can accommodate rollaway beds due to\\r\\nspace and safety regulations.\\r\\n● 6.4.\"\n",
      "    score: 0.64824223518371582\n",
      "  }\n",
      "  contexts {\n",
      "    source_uri: \"gs://rag-rental-prod-c9eccde5-us-central1-temp-bucket/ba723bb1-fc08-40eb-aa9f-8b293dd834a0\"\n",
      "    text: \"A price list is provided. Please do not store\\r\\npersonal items in the minibar if it is sensor-activated, as this may result in charges.\\r\\n● 13.4. Room Service: Room service is available during specified hours. A menu is\\r\\nprovided in your room. Service charges and taxes will apply.\\r\\n● 13.5. Alcohol Policy:\\r\\n○ Alcoholic beverages will not be served to individuals under the legal drinking age\\r\\n(please specify age, e.g., 21 in the USA). Valid photo ID may be required.\\r\\n○ The hotel reserves the right to refuse alcohol service to any guest who appears\\r\\nintoxicated or is behaving in a disorderly manner.\\r\\n○ Alcohol purchased outside the hotel is generally not permitted in licensed public\\r\\nareas. Corkage fees may apply if guests wish to consume their own wine in hotel\\r\\nrestaurants, subject to management approval.● 13.6. Dress Code: Some of our restaurants or bars may have a smart casual or formal\\r\\ndress code, particularly in the evenings. Please inquire for details. Bare feet and\\r\\nswimwear are generally not permitted in indoor dining areas.\\r\\n● 13.7. Reservations for Dining: Reservations are recommended for our fine dining\\r\\nrestaurants, especially during peak seasons or weekends.\\r\\n● 13.8. Food Allergies & Dietary Restrictions: Please inform our food and beverage\\r\\nstaff of any food allergies or dietary restrictions you may have when ordering. While we\\r\\ntake precautions, we cannot guarantee a completely allergen-free environment.\\r\\n14. Parking Policy\\r\\n● 14.1. Parking Availability: On-site parking is available for registered hotel guests.\\r\\nParking may be self-park or valet, or a combination. Availability may be limited.\\r\\n● 14.2. Parking Fees: A daily or nightly parking fee may apply. This fee will be\\r\\ncommunicated at the time of booking or check-in and will be added to your room\\r\\naccount.\\r\\n○ Self-Parking Fee: [Specify Amount, if applicable]\\r\\n○ Valet Parking Fee: [Specify Amount, if applicable]\\r\\n● 14.3. Parking Regulations:\\r\\n○ Vehicles must be parked in designated parking areas only. Parking in fire lanes,\\r\\nloading zones, or unauthorized spaces is prohibited and may result in towing at\\r\\nthe owner\\'s expense.\\r\\n○ Display any required parking permits or tags clearly in your vehicle.\\r\\n○ The hotel is not responsible for theft, loss, or damage to vehicles parked on hotel\\r\\nproperty, or to any items left inside vehicles. Park at your own risk.\\r\\n○ Lock your vehicle and do not leave valuables visible.\\r\\n● 14.4. Vehicle Size Restrictions: There may be height or length restrictions for\\r\\noversized vehicles (e.g., RVs, buses, trailers). Please contact the hotel in advance if you\\r\\nhave an oversized vehicle.\\r\\n● 14.5. Electric Vehicle (EV) Charging: EV charging stations may be available. Fees and\\r\\nusage rules may apply.\\r\\n● 14.6. Visitor Parking: Limited parking for non-guest visitors may be available,\\r\\npotentially with a separate fee structure.\\r\\n15. Lost & Found\\r\\n● 15.1. Reporting Lost Items: If you believe you have lost an item, please contact the\\r\\nFront Desk or Housekeeping department immediately with a detailed description of the\\r\\nitem and where you believe it may have been left.\\r\\n● 15.2. Found Items: All items found on hotel premises will be logged and stored in our\\r\\nLost & Found.● 15.3. Claiming Items: To claim a found item, you will need to provide a detailed\\r\\ndescription of the item and proof of ownership or identification.\\r\\n● 15.4. Holding Period: Found items will be held for a specific period (e.g., 30 days, 60\\r\\ndays, 90 days – please specify). Items not claimed within this period will be disposed of,\\r\\ndonated to charity, or handled in accordance with local regulations. Perishable items will\\r\\nbe disposed of more quickly.\\r\\n● 15.5. Shipping of Found Items: If a guest requests a found item to be shipped to them,\\r\\nthe guest will be responsible for all shipping, handling, and insurance costs. The hotel\\r\\nwill assist in arranging shipment via a designated courier service once payment for\\r\\nshipping is received.\\r\\n● 15.6. Hotel Liability: The hotel is not responsible for items lost or stolen during a guest\\'s\\r\\nstay, unless such loss is due to the gross negligence of the hotel. Guests are\\r\\nencouraged to use in-room safes for valuables.\"\n",
      "    score: 0.62994754314422607\n",
      "  }\n",
      "  contexts {\n",
      "    source_uri: \"gs://rag-rental-prod-c9eccde5-us-central1-temp-bucket/ba723bb1-fc08-40eb-aa9f-8b293dd834a0\"\n",
      "    text: \"23. Liability & Disclaimers\\r\\n● 23.1. Innkeeper\\'s Liability: The hotel\\'s liability for loss or damage to guest property is\\r\\ngoverned by applicable local and state/national innkeeper\\'s laws. These laws may limit\\r\\nthe hotel\\'s liability. In-room safes are provided, and use is encouraged. The hotel is\\r\\ngenerally not liable for valuables unless deposited with the Front Desk for safekeeping in\\r\\na hotel safe, and then only up to the limits prescribed by law.\\r\\n● 23.2. Personal Injury: The hotel is not liable for personal injury to guests unless caused\\r\\nby the gross negligence or willful misconduct of the hotel or its employees. Guests\\r\\nassume all risks associated with the use of hotel facilities and amenities.\\r\\n● 23.3. Third-Party Services: The hotel may provide information about or assist in\\r\\narranging third-party services (e.g., tours, transportation, babysitting). However, the hotelis not liable for the acts, omissions, or services of these third-party providers. Any\\r\\ncontracts for such services are between the guest and the provider.\\r\\n● 23.4. Force Majeure: The hotel shall not be liable for any failure or delay in performing\\r\\nits obligations if such failure or delay is due to causes beyond its reasonable control,\\r\\nincluding but not limited to acts of God, war, terrorism, government restrictions, strikes,\\r\\npandemics, or natural disasters (see also Section 5.7).\\r\\n● 23.5. Accuracy of Information: While the hotel strives to ensure all information\\r\\nprovided (e.g., on its website, in brochures) is accurate, errors and omissions may occur.\\r\\nThe hotel reserves the right to correct any errors or omissions.\\r\\n● 23.6. Guest\\'s Own Risk: Use of hotel facilities, including swimming pools, fitness\\r\\ncenters, parking lots, and other amenities, is at the guest\\'s own risk.\\r\\n● 23.7. Indemnification: Guests agree to indemnify and hold harmless The Grand\\r\\nHorizon Hotel & Resort, its owners, management, and employees from any liability, loss,\\r\\ndamage, cost, or expense (including legal fees) arising out of or in connection with any\\r\\nbreach of these policies by the guest or their visitors, or any negligent or willful act or\\r\\nomission by the guest or their visitors.\\r\\n24. Policy Modifications & Enforcement\\r\\n● 24.1. Right to Modify: The Grand Horizon Hotel & Resort reserves the right to amend,\\r\\nmodify, supplement, or delete any of these policies at any time without prior notice,\\r\\nalthough we will endeavor to communicate significant changes. The policies in effect at\\r\\nthe time of a guest\\'s stay will apply. The most current version of the policies will typically\\r\\nbe available on our website or at the Front Desk.\\r\\n● 24.2. Enforcement: Failure to comply with any of these hotel policies may result in:\\r\\n○ A verbal or written warning.\\r\\n○ Additional charges (e.g., for damages, smoking, late check-out).\\r\\n○ Restriction from using hotel facilities.\\r\\n○ Eviction from the hotel without refund.\\r\\n○ Reporting to law enforcement authorities, if applicable.\\r\\n○ Being barred from future stays at the hotel.\\r\\n● 24.3. Hotel Discretion: The interpretation and application of these policies are at the\\r\\nsole discretion of hotel management.\\r\\n● 24.4. Governing Law: These policies shall be governed by and construed in\\r\\naccordance with the laws of the jurisdiction in which The Grand Horizon Hotel & Resort\\r\\nis located [Specify Jurisdiction, e.g., State of California, USA; England and Wales, UK].\\r\\n● 24.5. Severability: If any part of these policies is deemed unlawful, void, or\\r\\nunenforceable, that part will be deemed severable and will not affect the validity and\\r\\nenforceability of any remaining provisions.\"\n",
      "    score: 0.626811146736145\n",
      "  }\n",
      "  contexts {\n",
      "    source_uri: \"gs://rag-rental-prod-c9eccde5-us-central1-temp-bucket/ba723bb1-fc08-40eb-aa9f-8b293dd834a0\"\n",
      "    text: \"Linen & Towel Reuse Program: To conserve water and reduce detergent use, we\\r\\noffer a linen and towel reuse program.\\r\\n○ Towels: Please hang up towels you wish to reuse. Place towels on the floor or in\\r\\nthe bathtub/shower if you would like them replaced.\\r\\n○ Linens: Bed linens are typically changed every [Specify: e.g., third day] of your\\r\\nstay for longer stays, or upon request. If you would like your linens changed daily,\\r\\nplease inform the Front Desk or place the designated card on your bed.\\r\\n● 17.3. Energy Conservation: Please help us conserve energy by:\\r\\n○ Turning off lights when leaving your room.\\r\\n○ Adjusting the thermostat to a moderate temperature when the room is\\r\\nunoccupied or when you are sleeping.\\r\\n○ Closing windows and balcony doors when the air conditioning or heating is on.\\r\\n● 17.4. Water Conservation: Please be mindful of water usage. Report any leaking taps\\r\\nor toilets to Housekeeping or the Front Desk immediately.\\r\\n● 17.5. Recycling: Recycling bins for paper, plastic, glass, and metal may be provided in\\r\\nguest rooms or in designated areas of the hotel. Please use them accordingly.\\r\\n● 17.6. Waste Reduction: We strive to reduce waste through various initiatives. We\\r\\nappreciate your support in minimizing waste.\\r\\n● 17.7. Sustainable Practices: The hotel may employ other sustainable practices, such\\r\\nas using energy-efficient lighting, water-saving fixtures, locally sourced food products,\\r\\nand eco-friendly cleaning supplies.\\r\\n18. Wi-Fi & Internet Usage\\r\\n● 18.1. Availability: Complimentary or paid Wi-Fi internet access is available to registered\\r\\nguests throughout the hotel [Specify if complimentary or if there are tiers/fees]. Access\\r\\ndetails will be provided at check-in.\\r\\n● 18.2. Acceptable Use: Use of the hotel\\'s internet service is subject to an acceptable use\\r\\npolicy. Guests agree not to use the internet service for any illegal, unethical, or malicious\\r\\nactivities, including but not limited to:\\r\\n○ Downloading or distributing copyrighted material without authorization.\\r\\n○ Accessing or distributing offensive, pornographic, or illegal content.\\r\\n○ Transmitting viruses, malware, or engaging in hacking or phishing activities.\\r\\n○ Sending spam or unsolicited commercial emails.\\r\\n○ Harassing or threatening others.\\r\\n○ Activities that disrupt the network or service for other users.● 18.3. Security: While the hotel provides internet access, guests are responsible for the\\r\\nsecurity of their own devices and data. We recommend using a personal firewall and\\r\\nup-to-date antivirus software. The hotel\\'s network is not inherently secure, and guests\\r\\nuse it at their own risk. Do not transmit sensitive personal information (e.g., credit card\\r\\nnumbers, passwords) over an unsecured network unless the website is secure (HTTPS).\\r\\n● 18.4. Bandwidth: The hotel endeavors to provide adequate bandwidth for all guests.\\r\\nHowever, excessive use of bandwidth by any single user, particularly for activities like\\r\\nlarge file sharing or streaming high-definition video for extended periods, may be\\r\\nthrottled or restricted to ensure fair access for all.\\r\\n● 18.5. Service Limitations: The hotel does not guarantee uninterrupted or error-free\\r\\ninternet service. Service may be subject to maintenance, outages, or limitations beyond\\r\\nour control. No refunds or compensation will be provided for service interruptions.\\r\\n● 18.6. Monitoring: The hotel reserves the right to monitor network traffic for security and\\r\\noperational purposes, in accordance with applicable privacy laws.\\r\\n● 18.7. Technical Support: Limited technical support for connecting to the Wi-Fi network\\r\\nmay be available. The hotel is not responsible for configuring guest devices or\\r\\ntroubleshooting issues unrelated to the hotel\\'s network infrastructure.\\r\\n19. Visitors Policy\\r\\n● 19.1. Registered Guests Only Overnight: Only guests registered with the Front Desk\\r\\nare permitted to stay overnight in guest rooms.\\r\\n● 19.2. Visitor Registration: For security purposes, visitors of registered guests may be\\r\\nrequired to register at the Front Desk and present photo identification, especially if\\r\\naccessing guest room floors or staying for an extended period during the day.\\r\\n● 19.3. Visitor Hours: Visitors are generally welcome in guest rooms during reasonable\\r\\nhours (e.g., 9:00 AM to 10:00 PM). After 10:00 PM (or the start of quiet hours),\\r\\nnon-registered individuals are typically not permitted in guest rooms and may be asked\\r\\nto leave.\\r\\n● 19.4.\"\n",
      "    score: 0.625777006149292\n",
      "  }\n",
      "  contexts {\n",
      "    source_uri: \"gs://rag-rental-prod-c9eccde5-us-central1-temp-bucket/ba723bb1-fc08-40eb-aa9f-8b293dd834a0\"\n",
      "    text: \"Found Items: All items found on hotel premises will be logged and stored in our\\r\\nLost & Found.● 15.3. Claiming Items: To claim a found item, you will need to provide a detailed\\r\\ndescription of the item and proof of ownership or identification.\\r\\n● 15.4. Holding Period: Found items will be held for a specific period (e.g., 30 days, 60\\r\\ndays, 90 days – please specify). Items not claimed within this period will be disposed of,\\r\\ndonated to charity, or handled in accordance with local regulations. Perishable items will\\r\\nbe disposed of more quickly.\\r\\n● 15.5. Shipping of Found Items: If a guest requests a found item to be shipped to them,\\r\\nthe guest will be responsible for all shipping, handling, and insurance costs. The hotel\\r\\nwill assist in arranging shipment via a designated courier service once payment for\\r\\nshipping is received.\\r\\n● 15.6. Hotel Liability: The hotel is not responsible for items lost or stolen during a guest\\'s\\r\\nstay, unless such loss is due to the gross negligence of the hotel. Guests are\\r\\nencouraged to use in-room safes for valuables. For items lost in transit or by third-party\\r\\nservices arranged by the hotel (e.g., taxis, tour operators), guests should contact those\\r\\nservices directly.\\r\\n16. Damages to Hotel Property\\r\\n● 16.1. Guest Responsibility: Guests are responsible for any damage caused to the hotel\\r\\nroom, furnishings, fixtures, equipment, or any other hotel property by themselves, their\\r\\nchildren, their pets (if applicable), or their visitors.\\r\\n● 16.2. Reporting Damage: Guests should report any accidental damage to hotel\\r\\nproperty to the Front Desk immediately.\\r\\n● 16.3. Assessment of Damage: The hotel reserves the right to assess the extent of the\\r\\ndamage and the cost of repair or replacement. This assessment will be fair and\\r\\nreasonable.\\r\\n● 16.4. Charges for Damage: The cost of repairing or replacing damaged items, including\\r\\nany labor costs and loss of revenue if the room is rendered unserviceable, will be\\r\\ncharged to the registered guest\\'s account. This may include, but is not limited to:\\r\\n○ Stains on carpets, upholstery, or linens that require specialized cleaning or\\r\\nreplacement.\\r\\n○ Broken furniture, fixtures, or glassware.\\r\\n○ Damage to walls, doors, or windows.\\r\\n○ Damage to or loss of electronic equipment, remote controls, or other in-room\\r\\namenities.\\r\\n● 16.5. Pre-Existing Damage: Guests are encouraged to report any pre-existing damage\\r\\nin their room to the Front Desk shortly after check-in to avoid potential liability.\\r\\n● 16.6. Removal of Hotel Property: Removing hotel property (e.g., towels, linens, robes,\\r\\nartwork, electronics) from the guest rooms or premises without authorization is\\r\\nconsidered theft and will result in charges for the replacement cost of the item(s) and\\r\\nmay lead to further action. Certain items (e.g., some amenity products) are intended for\\r\\nguest use and takeaway; if unsure, please ask.17. Environmental Policy\\r\\n● 17.1. Our Commitment: The Grand Horizon Hotel & Resort is committed to\\r\\nenvironmental sustainability and minimizing our ecological footprint. We encourage our\\r\\nguests to partner with us in these efforts.\\r\\n● 17.2. Linen & Towel Reuse Program: To conserve water and reduce detergent use, we\\r\\noffer a linen and towel reuse program.\\r\\n○ Towels: Please hang up towels you wish to reuse. Place towels on the floor or in\\r\\nthe bathtub/shower if you would like them replaced.\\r\\n○ Linens: Bed linens are typically changed every [Specify: e.g., third day] of your\\r\\nstay for longer stays, or upon request. If you would like your linens changed daily,\\r\\nplease inform the Front Desk or place the designated card on your bed.\\r\\n● 17.3. Energy Conservation: Please help us conserve energy by:\\r\\n○ Turning off lights when leaving your room.\\r\\n○ Adjusting the thermostat to a moderate temperature when the room is\\r\\nunoccupied or when you are sleeping.\\r\\n○ Closing windows and balcony doors when the air conditioning or heating is on.\\r\\n● 17.4. Water Conservation: Please be mindful of water usage. Report any leaking taps\\r\\nor toilets to Housekeeping or the Front Desk immediately.\\r\\n● 17.5. Recycling: Recycling bins for paper, plastic, glass, and metal may be provided in\\r\\nguest rooms or in designated areas of the hotel.\"\n",
      "    score: 0.62567353248596191\n",
      "  }\n",
      "  contexts {\n",
      "    source_uri: \"gs://rag-rental-prod-c9eccde5-us-central1-temp-bucket/ba723bb1-fc08-40eb-aa9f-8b293dd834a0\"\n",
      "    text: \"Exceeding the maximum\\r\\noccupancy is not permitted.\\r\\n○ Standard King Room: Typically 2 persons.\\r\\n○ Standard Double/Queen Room: Typically up to 4 persons (2 adults, 2 children, or\\r\\nas specified).\\r\\n○ Suites: Occupancy varies by suite type; please confirm at the time of booking.● 6.2. Extra Person Fees: Room rates are generally based on single or double\\r\\noccupancy. An additional charge will apply for each extra adult occupant beyond the\\r\\nstandard occupancy, up to the maximum permitted for the room type. Children under a\\r\\ncertain age (e.g., 12 years) may stay free when sharing a room with an adult and using\\r\\nexisting bedding, subject to room type limitations. This will be specified at the time of\\r\\nbooking.\\r\\n● 6.3. Rollaway Beds & Cribs: Rollaway beds and cribs are available upon request and\\r\\nare subject to availability. Fees may apply for rollaway beds. Cribs are generally\\r\\nprovided complimentary. Not all room types can accommodate rollaway beds due to\\r\\nspace and safety regulations.\\r\\n● 6.4. Registration of All Guests: All individuals staying in a guest room must be\\r\\nregistered with the Front Desk, and their names must appear on the reservation. This is\\r\\nfor safety, security, and regulatory purposes. Unregistered guests are not permitted to\\r\\nstay overnight.\\r\\n● 6.5. Minimum Age for Occupants: The primary registered guest for each room must be\\r\\nat least eighteen (18) or twenty-one (21) years of age (please specify your hotel\\'s\\r\\nrequirement) and must be present for the duration of the stay. Valid photo identification\\r\\nwill be required.\\r\\n7. Guest Conduct & Noise Policy\\r\\n● 7.1. Respectful Behavior: All guests are expected to conduct themselves in a\\r\\nrespectful and orderly manner, and to be considerate of other guests, hotel staff, and\\r\\nhotel property. Any behavior deemed disruptive, abusive, or inappropriate by hotel\\r\\nmanagement may result in eviction without refund.\\r\\n● 7.2. Noise Policy & Quiet Hours: To ensure a peaceful environment for all guests, quiet\\r\\nhours are enforced from 10:00 PM to 8:00 AM daily. During this time, guests are\\r\\nrequested to keep noise levels to a minimum.\\r\\n○ Excessive noise, loud music, parties, or any other disturbances are not permitted\\r\\nin guest rooms or public areas at any time.\\r\\n○ The hotel reserves the right to contact guests who are causing a disturbance. If\\r\\nthe disturbance continues after a warning, the guest(s) may be asked to leave\\r\\nthe hotel without refund.\\r\\n● 7.3. Parties & Gatherings: Parties or large gatherings in guest rooms are strictly\\r\\nprohibited without prior written authorization from hotel management. The number of\\r\\nindividuals in a guest room should not exceed the maximum occupancy for that room\\r\\ntype plus a reasonable number of temporary visitors (see Section 19: Visitors Policy).\\r\\n● 7.4. Illegal Activities: Engaging in any illegal activities, including but not limited to the\\r\\nuse, possession, or distribution of illegal drugs or substances, prostitution, or gambling,\\r\\nis strictly prohibited on hotel premises. Such activities will be reported to law\\r\\nenforcement, and guests involved will be immediately evicted without refund.\\r\\n● 7.5. Harassment: Harassment of any kind, whether directed at other guests or hotel\\r\\nstaff, will not be tolerated. This includes verbal, physical, or sexual harassment.● 7.6. Solicitation: Solicitation or commercial activity by guests is not permitted on hotel\\r\\nproperty without prior written consent from hotel management.\\r\\n● 7.7. Compliance with Staff Instructions: Guests must comply with reasonable\\r\\nrequests and instructions from hotel staff, particularly those related to safety, security,\\r\\nand the well-being of other guests.\\r\\n8. Smoking Policy\\r\\n● 8.1. Non-Smoking Property: The Grand Horizon Hotel & Resort is a 100% smoke-free\\r\\nproperty. Smoking, including the use of e-cigarettes, vapes, cigars, pipes, and any other\\r\\nsmoke-producing products, is strictly prohibited in all guest rooms, suites, balconies,\\r\\npatios, corridors, lobbies, restaurants, bars, meeting rooms, pool areas, and all other\\r\\nindoor and enclosed public areas.\\r\\n● 8.2. Designated Smoking Areas: For guests who wish to smoke, designated outdoor\\r\\nsmoking areas are available. Please inquire at the Front Desk for the locations of these\\r\\nareas.\"\n",
      "    score: 0.61109554767608643\n",
      "  }\n",
      "  contexts {\n",
      "    source_uri: \"gs://rag-rental-prod-c9eccde5-us-central1-temp-bucket/ba723bb1-fc08-40eb-aa9f-8b293dd834a0\"\n",
      "    text: \"● 18.6. Monitoring: The hotel reserves the right to monitor network traffic for security and\\r\\noperational purposes, in accordance with applicable privacy laws.\\r\\n● 18.7. Technical Support: Limited technical support for connecting to the Wi-Fi network\\r\\nmay be available. The hotel is not responsible for configuring guest devices or\\r\\ntroubleshooting issues unrelated to the hotel\\'s network infrastructure.\\r\\n19. Visitors Policy\\r\\n● 19.1. Registered Guests Only Overnight: Only guests registered with the Front Desk\\r\\nare permitted to stay overnight in guest rooms.\\r\\n● 19.2. Visitor Registration: For security purposes, visitors of registered guests may be\\r\\nrequired to register at the Front Desk and present photo identification, especially if\\r\\naccessing guest room floors or staying for an extended period during the day.\\r\\n● 19.3. Visitor Hours: Visitors are generally welcome in guest rooms during reasonable\\r\\nhours (e.g., 9:00 AM to 10:00 PM). After 10:00 PM (or the start of quiet hours),\\r\\nnon-registered individuals are typically not permitted in guest rooms and may be asked\\r\\nto leave.\\r\\n● 19.4. Responsibility for Visitors: Registered guests are responsible for the conduct of\\r\\ntheir visitors at all times while on hotel premises. Any breach of hotel policy by a visitor\\r\\nwill be considered a breach by the registered guest.\\r\\n● 19.5. Number of Visitors: The number of visitors in a guest room at any one time\\r\\nshould be reasonable and should not cause disturbance or exceed the room\\'s capacity\\r\\nto a point where it becomes a party or gathering (see Section 7.3).\\r\\n● 19.6. Use of Amenities by Visitors: Hotel amenities such as the swimming pool and\\r\\nfitness center are generally for the exclusive use of registered guests. Visitors may not\\r\\nbe permitted to use these facilities unless accompanied by a registered guest and if\\r\\npermitted by specific facility rules (fees may apply).\\r\\n● 19.7. Right to Refuse Entry: The hotel reserves the right to refuse entry to any visitor or\\r\\nto ask a visitor to leave the premises if their conduct is deemed inappropriate, disruptive,\\r\\nor a threat to safety or security.20. Special Requests\\r\\n● 20.1. Accommodation of Requests: The hotel will make every reasonable effort to\\r\\naccommodate special requests from guests, such as specific room locations (e.g., high\\r\\nfloor, near elevator), bed types (e.g., king, twin), adjoining rooms, feather-free rooms, or\\r\\nrequests for items like extra pillows, blankets, or toiletries.\\r\\n● 20.2. Subject to Availability: All special requests are subject to availability at the time\\r\\nof check-in and cannot be guaranteed in advance unless explicitly confirmed in writing\\r\\nas part of a specific package or rate plan.\\r\\n● 20.3. Notification: Please make special requests at the time of booking or as far in\\r\\nadvance as possible. You can also reconfirm your requests with the Front Desk upon\\r\\narrival.\\r\\n● 20.4. Accessibility Needs: We offer accessible rooms and features for guests with\\r\\ndisabilities. Please specify your accessibility requirements at the time of booking to\\r\\nensure we can best meet your needs. This may include requests for roll-in showers, grab\\r\\nbars, visual alarms, etc.\\r\\n● 20.5. Medical Equipment: If you require storage for medication (e.g., refrigeration) or\\r\\nneed to use personal medical equipment, please inform the hotel in advance so that\\r\\nappropriate arrangements can be discussed.\\r\\n● 20.6. Fees: Some special requests may incur additional fees (e.g., rollaway beds,\\r\\ncertain upgraded amenities). Any applicable fees will be communicated to you.\\r\\n21. Photography & Videography\\r\\n● 21.1. Personal Use: Guests are welcome to take photographs and videos for personal,\\r\\nnon-commercial use on hotel premises.\\r\\n● 21.2. Commercial Photography/Videography: Any commercial photography,\\r\\nvideography, or professional photoshoots (including for social media influencers if for\\r\\npromotional or commercial gain) on hotel property require prior written permission from\\r\\nhotel management. Fees and specific terms and conditions may apply. Unauthorized\\r\\ncommercial photography is strictly prohibited.\\r\\n● 21.3. Privacy of Others: When taking photographs or videos, guests must respect the\\r\\nprivacy of other guests and hotel staff. Do not photograph or film other individuals\\r\\nwithout their explicit consent.\\r\\n● 21.4.\"\n",
      "    score: 0.6087651252746582\n",
      "  }\n",
      "}\n",
      "\n"
     ]
    }
   ],
   "source": [
    "response = rag.retrieval_query(\n",
    "    rag_resources=[\n",
    "        rag.RagResource(\n",
    "            rag_corpus=rag_corpus.name,\n",
    "        )\n",
    "    ],\n",
    "    text=\"what is the policy on late checkout?\",\n",
    "    rag_retrieval_config=rag.RagRetrievalConfig(\n",
    "        top_k=10,\n",
    "        filter=rag.utils.resources.Filter(vector_distance_threshold=0.5),\n",
    "    ),\n",
    ")\n",
    "print(response)"
   ]
  }
 ],
 "metadata": {
  "kernelspec": {
   "display_name": "ADK",
   "language": "python",
   "name": ".af"
  },
  "language_info": {
   "codemirror_mode": {
    "name": "ipython",
    "version": 3
   },
   "file_extension": ".py",
   "mimetype": "text/x-python",
   "name": "python",
   "nbconvert_exporter": "python",
   "pygments_lexer": "ipython3",
   "version": "3.11.6"
  }
 },
 "nbformat": 4,
 "nbformat_minor": 5
}
